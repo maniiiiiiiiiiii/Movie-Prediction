# Import necessary libraries
import pandas as pd
import numpy as np
import seaborn as sns
import matplotlib.pyplot as plt
from sklearn.model_selection import train_test_split
from sklearn.preprocessing import LabelEncoder
from sklearn.ensemble import RandomForestRegressor
from sklearn.metrics import mean_absolute_error, mean_squared_error, r2_score

# Load dataset
df = pd.read_csv("imdb_india_movies.csv")

# Display basic info
print(df.info())
print(df.head())

# Handling missing values
df.fillna(df.median(numeric_only=True), inplace=True)

# Encode categorical features
label_encoders = {}
categorical_columns = ['director', 'genre', 'cast']

for col in categorical_columns:
    le = LabelEncoder()
    df[col] = le.fit_transform(df[col].astype(str))
    label_encoders[col] = le  # Store encoders for later use

# Feature Engineering
df['director_success_rate'] = df.groupby('director')['rating'].transform('mean')
df['genre_avg_rating'] = df.groupby('genre')['rating'].transform('mean')

# Define input and target variables
X = df.drop(columns=['rating'])  # Independent variables
y = df['rating']  # Target variable

# Split the dataset into training and testing sets
X_train, X_test, y_train, y_test = train_test_split(X, y, test_size=0.2, random_state=42)

# Training the Random Forest Regressor
model = RandomForestRegressor(n_estimators=100, random_state=42)
model.fit(X_train, y_train)

# Predictions
y_pred = model.predict(X_test)

# Evaluate Model Performance
mae = mean_absolute_error(y_test, y_pred)
rmse = np.sqrt(mean_squared_error(y_test, y_pred))
r2 = r2_score(y_test, y_pred)

print(f"Mean Absolute Error: {mae}")
print(f"Root Mean Squared Error: {rmse}")
print(f"R² Score: {r2}")

# Saving the model 
import joblib
joblib.dump(model, 'movie_rating_predictor.pkl')
